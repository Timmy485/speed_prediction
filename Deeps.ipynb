{
  "nbformat": 4,
  "nbformat_minor": 0,
  "metadata": {
    "colab": {
      "name": "Sanity_Check.ipynb",
      "provenance": [],
      "collapsed_sections": []
    },
    "kernelspec": {
      "name": "python3",
      "display_name": "Python 3"
    },
    "language_info": {
      "name": "python"
    }
  },
  "cells": [
    {
      "cell_type": "code",
      "execution_count": 1,
      "metadata": {
        "id": "rkyFf0r6EcbA"
      },
      "outputs": [],
      "source": [
        "import pandas as pd\n",
        "import numpy as np\n",
        "import cv2"
      ]
    },
    {
      "cell_type": "code",
      "source": [
        "import matplotlib.pyplot as plt\n",
        "import matplotlib.image as mpimg\n",
        "import matplotlib.gridspec as gridspec"
      ],
      "metadata": {
        "id": "5wmtm_vjM0jF"
      },
      "execution_count": 2,
      "outputs": []
    },
    {
      "cell_type": "code",
      "source": [
        "!git clone 'https://github.com/millingab/deeps'"
      ],
      "metadata": {
        "colab": {
          "base_uri": "https://localhost:8080/"
        },
        "id": "SZhn4hPLPOWh",
        "outputId": "6ecf5501-ded9-44e8-8346-2816db2d9fe2"
      },
      "execution_count": 3,
      "outputs": [
        {
          "output_type": "stream",
          "name": "stdout",
          "text": [
            "Cloning into 'deeps'...\n",
            "remote: Enumerating objects: 75, done.\u001b[K\n",
            "remote: Total 75 (delta 0), reused 0 (delta 0), pack-reused 75\u001b[K\n",
            "Unpacking objects: 100% (75/75), done.\n"
          ]
        }
      ]
    },
    {
      "cell_type": "code",
      "source": [
        "np.random.seed(143)"
      ],
      "metadata": {
        "id": "-y5Ba01-MbmI"
      },
      "execution_count": 4,
      "outputs": []
    },
    {
      "cell_type": "code",
      "source": [
        "from google.colab import drive\n",
        "drive.mount('/content/drive')"
      ],
      "metadata": {
        "colab": {
          "base_uri": "https://localhost:8080/"
        },
        "id": "wwHeMXo-L_88",
        "outputId": "4d685600-1868-4601-b46a-28932546323f"
      },
      "execution_count": 5,
      "outputs": [
        {
          "output_type": "stream",
          "name": "stdout",
          "text": [
            "Mounted at /content/drive\n"
          ]
        }
      ]
    },
    {
      "cell_type": "code",
      "source": [
        "train_images_directory = '/content/drive/MyDrive/Emmen_28_images/images'\n",
        "train_excel_file_directory = '/content/drive/MyDrive/Emmen_28.xlsx'"
      ],
      "metadata": {
        "id": "WO47rpqXMGah"
      },
      "execution_count": 6,
      "outputs": []
    },
    {
      "cell_type": "code",
      "source": [
        "df =  pd.read_excel(train_excel_file_directory)\n",
        "len(df)"
      ],
      "metadata": {
        "colab": {
          "base_uri": "https://localhost:8080/"
        },
        "id": "orQH2AbXMUhi",
        "outputId": "aebb0d59-4819-450e-866f-941bc58940c6"
      },
      "execution_count": 7,
      "outputs": [
        {
          "output_type": "execute_result",
          "data": {
            "text/plain": [
              "2997"
            ]
          },
          "metadata": {},
          "execution_count": 7
        }
      ]
    },
    {
      "cell_type": "code",
      "source": [
        "for i in range(len(df)):\n",
        "  df.loc[i, 'image_path'] = train_images_directory + str(df.loc[i, 'cameraRight'][-13:])"
      ],
      "metadata": {
        "id": "Dx6nTn59MYkM"
      },
      "execution_count": 8,
      "outputs": []
    },
    {
      "cell_type": "code",
      "source": [
        "def batch_shuffle(dframe):\n",
        "    \"\"\"\n",
        "    Randomly shuffle pairs of rows in the dataframe, separates train and validation data\n",
        "    generates a uniform random variable 0->9, gives 20% chance to append to valid data, otherwise train_data\n",
        "    return tuple (train_data, valid_data) dataframes\n",
        "    \"\"\"\n",
        "    randomized_list = np.arange(len(dframe)-1)\n",
        "    np.random.shuffle(randomized_list)\n",
        "    \n",
        "    train_data = pd.DataFrame()\n",
        "    valid_data = pd.DataFrame()\n",
        "    \n",
        "    \n",
        "    for i in randomized_list:\n",
        "        idx1 = i\n",
        "        idx2 = i + 1\n",
        "        \n",
        "        row1 = dframe.iloc[[idx1]].reset_index()\n",
        "        row2 = dframe.iloc[[idx2]].reset_index()\n",
        "        \n",
        "        randInt = np.random.randint(10)\n",
        "        if 0 <= randInt <= 1:\n",
        "            valid_frames = [valid_data, row1, row2]\n",
        "            valid_data = pd.concat(valid_frames, axis = 0, join = 'outer', ignore_index=False)\n",
        "        if randInt >= 2:\n",
        "            train_frames = [train_data, row1, row2]\n",
        "            train_data = pd.concat(train_frames, axis = 0, join = 'outer', ignore_index=False)\n",
        "    return train_data, valid_data"
      ],
      "metadata": {
        "id": "lQxml0qcMh40"
      },
      "execution_count": 9,
      "outputs": []
    },
    {
      "cell_type": "code",
      "source": [
        "train_data, valid_data = batch_shuffle(df)"
      ],
      "metadata": {
        "id": "vWF2dzObMrvg"
      },
      "execution_count": 10,
      "outputs": []
    },
    {
      "cell_type": "code",
      "source": [
        "train_data = train_data.iloc[:2000]\n",
        "len(train_data)"
      ],
      "metadata": {
        "colab": {
          "base_uri": "https://localhost:8080/"
        },
        "id": "ZlG1Zzp-HpgL",
        "outputId": "bf03967c-c249-4f54-c033-110981f76e3c"
      },
      "execution_count": 11,
      "outputs": [
        {
          "output_type": "execute_result",
          "data": {
            "text/plain": [
              "2000"
            ]
          },
          "metadata": {},
          "execution_count": 11
        }
      ]
    },
    {
      "cell_type": "code",
      "source": [
        "def opticalFlowDense(image_current, image_next):\n",
        "    \"\"\"\n",
        "    input: image_current, image_next (RGB images)\n",
        "    calculates optical flow magnitude and angle and places it into HSV image\n",
        "    * Set the saturation to the saturation value of image_next\n",
        "    * Set the hue to the angles returned from computing the flow params\n",
        "    * set the value to the magnitude returned from computing the flow params\n",
        "    * Convert from HSV to RGB and return RGB image with same size as original image\n",
        "    \"\"\"\n",
        "    gray_current = cv2.cvtColor(image_current, cv2.COLOR_RGB2GRAY)\n",
        "    gray_next = cv2.cvtColor(image_next, cv2.COLOR_RGB2GRAY)\n",
        "    \n",
        "    hsv = np.zeros(image_current.shape)\n",
        "    # set saturation\n",
        "    hsv[:,:,1] = cv2.cvtColor(image_next, cv2.COLOR_RGB2HSV)[:,:,1]\n",
        " \n",
        "    # Flow Parameters\n",
        "    flow_mat = None\n",
        "    image_scale = 0.5\n",
        "    nb_images = 1\n",
        "    win_size = 15\n",
        "    nb_iterations = 2\n",
        "    deg_expansion = 5\n",
        "    STD = 1.3\n",
        "    extra = 0\n",
        "\n",
        "    # obtain dense optical flow paramters\n",
        "    flow = cv2.calcOpticalFlowFarneback(gray_current, gray_next,  \n",
        "                                        flow_mat, \n",
        "                                        image_scale, \n",
        "                                        nb_images, \n",
        "                                        win_size, \n",
        "                                        nb_iterations, \n",
        "                                        deg_expansion, \n",
        "                                        STD, \n",
        "                                        0)\n",
        "                                        \n",
        "        \n",
        "    # convert from cartesian to polar\n",
        "    mag, ang = cv2.cartToPolar(flow[..., 0], flow[..., 1])  \n",
        "        \n",
        "    # hue corresponds to direction\n",
        "    hsv[:,:,0] = ang * (180/ np.pi / 2)\n",
        "    \n",
        "    # value corresponds to magnitude\n",
        "    hsv[:,:,2] = cv2.normalize(mag,None,0,255,cv2.NORM_MINMAX)\n",
        "    \n",
        "    # convert HSV to float32's\n",
        "    hsv = np.asarray(hsv, dtype= np.float32)    \n",
        "\n",
        "    rgb_flow = cv2.cvtColor(hsv,cv2.COLOR_HSV2RGB)\n",
        "\n",
        "    scale_factor=0.5\n",
        "    rgb_flow = crop_image(rgb_flow, scale_factor)\n",
        "    \n",
        "    return rgb_flow"
      ],
      "metadata": {
        "id": "FwDQgrLeMvuU"
      },
      "execution_count": 12,
      "outputs": []
    },
    {
      "cell_type": "code",
      "source": [
        "def crop_image(image, scale):\n",
        "    \"\"\"\n",
        "    preprocesses the image\n",
        "    \n",
        "    input: image (480 (y), 640 (x), 3) RGB\n",
        "    output: image (shape is (66, 220, 3) as RGB)\n",
        "    \n",
        "    This stuff is performed on my validation data and my training data\n",
        "    Process: \n",
        "             1) Cropping out black spots\n",
        "             3) resize to (66, 220, 3) if not done so already from perspective transform\n",
        "    \"\"\"\n",
        "    # Crop out sky (top 130px) and the hood of the car (bottom 270px) \n",
        "    image_cropped = image[150:870,:] # -> (240, 640, 3)\n",
        "    \n",
        "    height = int(240*scale)\n",
        "    width = int(640*scale)\n",
        "    image = cv2.resize(image_cropped, (220, 66), interpolation = cv2.INTER_AREA)\n",
        "    \n",
        "    return image"
      ],
      "metadata": {
        "id": "rLo-mu7vNOtm"
      },
      "execution_count": 13,
      "outputs": []
    },
    {
      "cell_type": "code",
      "source": [
        "def change_brightness(image, bright_factor):\n",
        "    \"\"\"\n",
        "    Augments the brightness of the image by multiplying the saturation by a uniform random variable\n",
        "    Input: image (RGB)\n",
        "    returns: image with brightness augmentation\n",
        "    \"\"\"\n",
        "    \n",
        "    hsv_image = cv2.cvtColor(image, cv2.COLOR_RGB2HSV)\n",
        "    # perform brightness augmentation only on the second channel\n",
        "    hsv_image[:,:,2] = hsv_image[:,:,2] * bright_factor\n",
        "    \n",
        "    # change back to RGB\n",
        "    image_rgb = cv2.cvtColor(hsv_image, cv2.COLOR_HSV2RGB)\n",
        "    return image_rgb"
      ],
      "metadata": {
        "id": "j7B9Ow1iNS9g"
      },
      "execution_count": 14,
      "outputs": []
    },
    {
      "cell_type": "code",
      "source": [
        "def preprocess_image_from_path(image_path, scale_factor=0.5, bright_factor=1):\n",
        "    img = cv2.imread(image_path)\n",
        "    img = cv2.cvtColor(img, cv2.COLOR_BGR2RGB)\n",
        "    # img = change_brightness(img, bright_factor)\n",
        "    # img = crop_image(img, scale_factor)\n",
        "    return img"
      ],
      "metadata": {
        "id": "9ji5iC70NV25"
      },
      "execution_count": 15,
      "outputs": []
    },
    {
      "cell_type": "code",
      "source": [
        "def preprocess_image_valid_from_path(image_path, scale_factor=0.5):\n",
        "    img = cv2.imread(image_path)\n",
        "    img = cv2.cvtColor(img, cv2.COLOR_BGR2RGB)\n",
        "    # img = crop_image(img, scale_factor)\n",
        "    return img"
      ],
      "metadata": {
        "id": "JIRMDSHDNY0W"
      },
      "execution_count": 16,
      "outputs": []
    },
    {
      "cell_type": "code",
      "source": [
        "def generate_training_data(data, batch_size = 16, scale_factor = 0.5):\n",
        "    # sample an image from the data to compute image size\n",
        "    img = preprocess_image_from_path(train_data.iloc[1]['image_path'])\n",
        "    img = crop_image(img, scale_factor)\n",
        "\n",
        "    # create empty batches\n",
        "    image_batch = np.zeros((batch_size, img.shape[0], img.shape[1], img.shape[2]))\n",
        "    label_batch = np.zeros(batch_size)\n",
        "    i=0\n",
        "    \n",
        "    while True:\n",
        "        speed1 = data.iloc[0]['canSpeed']\n",
        "        speed2 = data.iloc[1]['canSpeed']\n",
        "        \n",
        "        bright_factor = 0.2 + np.random.uniform()\n",
        "        img1 = preprocess_image_from_path(data.iloc[0]['image_path'])\n",
        "        img2 = preprocess_image_from_path(data.iloc[1]['image_path'])\n",
        "        \n",
        "        rgb_flow_diff = opticalFlowDense(img1, img2)\n",
        "        avg_speed = np.mean([speed1,speed2])\n",
        "        \n",
        "        image_batch[(i//2)%batch_size] = rgb_flow_diff\n",
        "        label_batch[(i//2)%batch_size] = avg_speed\n",
        "        \n",
        "        if not(((i//2)+1)%batch_size):\n",
        "            yield image_batch, label_batch\n",
        "        i+=2\n",
        "        i=i%data.shape[0]"
      ],
      "metadata": {
        "id": "Hihb6iu8NbFj"
      },
      "execution_count": 17,
      "outputs": []
    },
    {
      "cell_type": "code",
      "source": [
        "def generate_validation_data(data, batch_size = 16, scale_factor = 0.5):\n",
        "    i=0\n",
        "    while i < len(data):\n",
        "        speed1 = data.iloc[0]['canSpeed']\n",
        "        speed2 = data.iloc[1]['canSpeed']\n",
        "    \n",
        "        img1 = preprocess_image_valid_from_path(data.iloc[0]['image_path'])\n",
        "        img2 = preprocess_image_valid_from_path(data.iloc[1]['image_path'])\n",
        "        \n",
        "        rgb_diff = opticalFlowDense(img1, img2)\n",
        "        rgb_diff = rgb_diff.reshape(1, rgb_diff.shape[0], rgb_diff.shape[1], rgb_diff.shape[2])\n",
        "        avg_speed = np.array([[np.mean([speed1,speed2])]])\n",
        "\n",
        "        yield rgb_diff, avg_speed"
      ],
      "metadata": {
        "id": "hVbDi7TyNf5F"
      },
      "execution_count": 18,
      "outputs": []
    },
    {
      "cell_type": "code",
      "source": [
        "from tensorflow import keras\n",
        "from keras.models import Sequential\n",
        "from keras.layers.convolutional import Convolution2D\n",
        "from keras.layers.pooling import MaxPooling2D\n",
        "from keras.layers.core import Activation, Dropout, Flatten, Dense, Lambda\n",
        "from keras.layers import ELU\n",
        "# from tensorflow.keras.optimizers import Adam\n",
        "import keras.backend as KTF\n",
        "\n",
        "\n",
        "N_img_height = 66\n",
        "N_img_width = 220\n",
        "N_img_channels = 3\n",
        "def nvidia_model():\n",
        "    inputShape = (N_img_height, N_img_width, N_img_channels)\n",
        "\n",
        "    model = Sequential()\n",
        "    # normalization    \n",
        "    # perform custom normalization before lambda layer in network\n",
        "    model.add(Lambda(lambda x: x/ 127.5 - 1, input_shape = inputShape))\n",
        "\n",
        "    model.add(Convolution2D(24, (5, 5), \n",
        "                            strides=(2,2), \n",
        "                            padding = 'valid',\n",
        "                            kernel_initializer = 'he_normal',\n",
        "                            name = 'conv1'))\n",
        "    \n",
        "    \n",
        "    model.add(ELU())    \n",
        "    model.add(Convolution2D(36, (5, 5), \n",
        "                            strides=(2,2), \n",
        "                            padding = 'valid',\n",
        "                            kernel_initializer = 'he_normal',\n",
        "                            name = 'conv2'))\n",
        "    \n",
        "    model.add(ELU())    \n",
        "    model.add(Convolution2D(48, (5, 5), \n",
        "                            strides=(2,2), \n",
        "                            padding = 'valid',\n",
        "                            kernel_initializer = 'he_normal',\n",
        "                            name = 'conv3'))\n",
        "    model.add(ELU())\n",
        "    model.add(Dropout(0.5))\n",
        "    model.add(Convolution2D(64, (3, 3), \n",
        "                            strides = (1,1), \n",
        "                            padding = 'valid',\n",
        "                            kernel_initializer = 'he_normal',\n",
        "                            name = 'conv4'))\n",
        "    \n",
        "    model.add(ELU())              \n",
        "    model.add(Convolution2D(64, (3, 3), \n",
        "                            strides= (1,1), \n",
        "                            padding = 'valid',\n",
        "                            kernel_initializer = 'he_normal',\n",
        "                            name = 'conv5'))\n",
        "              \n",
        "              \n",
        "    model.add(Flatten(name = 'flatten'))\n",
        "    model.add(ELU())\n",
        "    model.add(Dense(100, kernel_initializer = 'he_normal', name = 'fc1'))\n",
        "    model.add(ELU())\n",
        "    model.add(Dense(50, kernel_initializer = 'he_normal', name = 'fc2'))\n",
        "    model.add(ELU())\n",
        "    model.add(Dense(10, kernel_initializer = 'he_normal', name = 'fc3'))\n",
        "    model.add(ELU())\n",
        "    \n",
        "    # do not put activation at the end because we want to exact output, not a class identifier\n",
        "    model.add(Dense(1, name = 'output', kernel_initializer = 'he_normal'))\n",
        "    \n",
        "    adam = keras.optimizers.Adam(learning_rate=1e-4, beta_1=0.9, beta_2=0.999, epsilon=1e-08, decay=0.0)\n",
        "    model.compile(optimizer = adam, loss = 'mse')\n",
        "\n",
        "    return model"
      ],
      "metadata": {
        "id": "2iKHzcopNi_h"
      },
      "execution_count": 19,
      "outputs": []
    },
    {
      "cell_type": "code",
      "source": [
        "val_size = len(train_data[:500].index)\n",
        "valid_generator = generate_validation_data(train_data[:500])\n",
        "BATCH = 16\n",
        "print('val_size: ', val_size)"
      ],
      "metadata": {
        "colab": {
          "base_uri": "https://localhost:8080/"
        },
        "id": "bprYfkLLNn_j",
        "outputId": "88631319-38d4-4de9-8f9f-ba8ac96a4d01"
      },
      "execution_count": 20,
      "outputs": [
        {
          "output_type": "stream",
          "name": "stdout",
          "text": [
            "val_size:  500\n"
          ]
        }
      ]
    },
    {
      "cell_type": "code",
      "source": [
        "train_size = len(train_data.index)\n",
        "print('train_size: ', train_size)"
      ],
      "metadata": {
        "colab": {
          "base_uri": "https://localhost:8080/"
        },
        "id": "umB782w9Oqtv",
        "outputId": "514ef04a-32aa-411f-b005-827ef58161fb"
      },
      "execution_count": 21,
      "outputs": [
        {
          "output_type": "stream",
          "name": "stdout",
          "text": [
            "train_size:  2000\n"
          ]
        }
      ]
    },
    {
      "cell_type": "code",
      "source": [
        "from keras.callbacks import EarlyStopping, ModelCheckpoint\n",
        "filepath = '/content/drive/MyDrive/sanity_check/model-weights.h5'\n",
        "earlyStopping = EarlyStopping(monitor='val_loss', \n",
        "                              patience=5, \n",
        "                              verbose=1, \n",
        "                              min_delta = 0.23,\n",
        "                              mode='min')\n",
        "modelCheckpoint = ModelCheckpoint(filepath, \n",
        "                                  monitor = 'val_loss', \n",
        "                                  save_best_only = True, \n",
        "                                  mode = 'min', \n",
        "                                  verbose = 1,\n",
        "                                 save_weights_only = True)\n",
        "callbacks_list = [earlyStopping, modelCheckpoint]"
      ],
      "metadata": {
        "id": "ObtRC1n6Or7y"
      },
      "execution_count": 22,
      "outputs": []
    },
    {
      "cell_type": "code",
      "source": [
        "model = nvidia_model()\n",
        "model.load_weights('/content/deeps/model-weights-Vtest3.h5')"
      ],
      "metadata": {
        "id": "XBZ5IhPcO0kc"
      },
      "execution_count": 23,
      "outputs": []
    },
    {
      "cell_type": "code",
      "source": [
        "train_generator = generate_training_data(train_data, BATCH)\n",
        "history = model.fit(\n",
        "        train_generator, \n",
        "        steps_per_epoch = 400, \n",
        "        epochs = 10,\n",
        "        callbacks = callbacks_list,\n",
        "        verbose = 1,\n",
        "        validation_data = valid_generator,\n",
        "        validation_steps = val_size)\n",
        "\n",
        "print(history)"
      ],
      "metadata": {
        "colab": {
          "base_uri": "https://localhost:8080/"
        },
        "id": "yyjO7REGPIOy",
        "outputId": "1d8b5e66-21ca-4a67-b906-5ba68b7284d9"
      },
      "execution_count": 24,
      "outputs": [
        {
          "output_type": "stream",
          "name": "stdout",
          "text": [
            "Epoch 1/10\n",
            "400/400 [==============================] - ETA: 0s - loss: 0.2339\n",
            "Epoch 1: val_loss improved from inf to 0.00573, saving model to /content/drive/MyDrive/sanity_check/model-weights.h5\n",
            "400/400 [==============================] - 3219s 8s/step - loss: 0.2339 - val_loss: 0.0057\n",
            "Epoch 2/10\n",
            "400/400 [==============================] - ETA: 0s - loss: 0.0273\n",
            "Epoch 2: val_loss improved from 0.00573 to 0.00572, saving model to /content/drive/MyDrive/sanity_check/model-weights.h5\n",
            "400/400 [==============================] - 3341s 8s/step - loss: 0.0273 - val_loss: 0.0057\n",
            "Epoch 3/10\n",
            "400/400 [==============================] - ETA: 0s - loss: 0.0145\n",
            "Epoch 3: val_loss improved from 0.00572 to 0.00411, saving model to /content/drive/MyDrive/sanity_check/model-weights.h5\n",
            "400/400 [==============================] - 3353s 8s/step - loss: 0.0145 - val_loss: 0.0041\n",
            "Epoch 4/10\n",
            "400/400 [==============================] - ETA: 0s - loss: 0.0092\n",
            "Epoch 4: val_loss improved from 0.00411 to 0.00161, saving model to /content/drive/MyDrive/sanity_check/model-weights.h5\n",
            "400/400 [==============================] - 3377s 8s/step - loss: 0.0092 - val_loss: 0.0016\n",
            "Epoch 5/10\n",
            "400/400 [==============================] - ETA: 0s - loss: 0.0061\n",
            "Epoch 5: val_loss improved from 0.00161 to 0.00011, saving model to /content/drive/MyDrive/sanity_check/model-weights.h5\n",
            "400/400 [==============================] - 3334s 8s/step - loss: 0.0061 - val_loss: 1.1296e-04\n",
            "Epoch 6/10\n",
            "400/400 [==============================] - ETA: 0s - loss: 0.0045\n",
            "Epoch 6: val_loss did not improve from 0.00011\n",
            "400/400 [==============================] - 3277s 8s/step - loss: 0.0045 - val_loss: 1.4402e-04\n",
            "Epoch 6: early stopping\n",
            "<keras.callbacks.History object at 0x7faef1a61d50>\n"
          ]
        }
      ]
    },
    {
      "cell_type": "code",
      "source": [
        "print(history.history.keys())\n",
        "\n",
        "### plot the training and validation loss for each epoch\n",
        "plt.figure(figsize=[10,8])\n",
        "plt.plot(history.history['loss'])\n",
        "plt.plot(history.history['val_loss'])\n",
        "plt.title('Model mean squared error loss per epoch')\n",
        "plt.ylabel('mean squared error loss')\n",
        "plt.xlabel('epoch')\n",
        "plt.legend(['training set', 'validation set'], loc='upper right')\n",
        "plt.show()"
      ],
      "metadata": {
        "colab": {
          "base_uri": "https://localhost:8080/",
          "height": 530
        },
        "id": "cVAG6_nLBFOs",
        "outputId": "477220bc-8557-405e-87d7-209ccdb6b463"
      },
      "execution_count": 25,
      "outputs": [
        {
          "output_type": "stream",
          "name": "stdout",
          "text": [
            "dict_keys(['loss', 'val_loss'])\n"
          ]
        },
        {
          "output_type": "display_data",
          "data": {
            "text/plain": [
              "<Figure size 720x576 with 1 Axes>"
            ],
            "image/png": "[encoded data removed]"
          },
          "metadata": {
            "needs_background": "light"
          }
        }
      ]
    },
    {
      "cell_type": "code",
      "source": [
        "model.load_weights('/content/drive/MyDrive/sanity_check/model-weights.h5')"
      ],
      "metadata": {
        "id": "1lcKrjJGPowk"
      },
      "execution_count": 26,
      "outputs": []
    },
    {
      "cell_type": "code",
      "source": [
        "import os\n",
        "predict_speed = []\n",
        "labels = []\n",
        "test_size = int(0.2 * len(train_data[:2500]))\n",
        "test_size"
      ],
      "metadata": {
        "colab": {
          "base_uri": "https://localhost:8080/"
        },
        "id": "s-KmOiCbP00G",
        "outputId": "f5fd20fa-b9cd-4c63-f12c-956f659e9da2"
      },
      "execution_count": 27,
      "outputs": [
        {
          "output_type": "execute_result",
          "data": {
            "text/plain": [
              "400"
            ]
          },
          "metadata": {},
          "execution_count": 27
        }
      ]
    },
    {
      "cell_type": "code",
      "source": [
        "for i in range(test_size):\n",
        "    \n",
        "    # print(index)\n",
        "    y1 = train_data.iloc[0]['canSpeed']\n",
        "    y2 = train_data.iloc[1]['canSpeed']\n",
        "    avg_speed =np.mean([y1,y2])\n",
        "    # print(avg_speed)\n",
        "    # break\n",
        "    x1 = preprocess_image_valid_from_path(train_data.iloc[0]['image_path'])\n",
        "    x2 = preprocess_image_valid_from_path(train_data.iloc[1]['image_path'])\n",
        "    \n",
        "    rgb_diff = opticalFlowDense(x1, x2)\n",
        "    rgb_diff = rgb_diff.reshape(1, rgb_diff.shape[0], rgb_diff.shape[1], rgb_diff.shape[2])\n",
        "\n",
        "    prediction = model.predict(rgb_diff)\n",
        "    predict_speed.append(float(prediction[0]))\n",
        "    labels.append(avg_speed)"
      ],
      "metadata": {
        "id": "X_kQ8pXMQFg4"
      },
      "execution_count": 28,
      "outputs": []
    },
    {
      "cell_type": "code",
      "source": [
        "from sklearn.metrics import mean_squared_error\n",
        "mean_squared_error(labels, predict_speed)"
      ],
      "metadata": {
        "colab": {
          "base_uri": "https://localhost:8080/"
        },
        "id": "GndXiAGAQU6n",
        "outputId": "1014966c-227b-4065-ef16-62b511b13e65"
      },
      "execution_count": 29,
      "outputs": [
        {
          "output_type": "execute_result",
          "data": {
            "text/plain": [
              "0.0001129644914158261"
            ]
          },
          "metadata": {},
          "execution_count": 29
        }
      ]
    },
    {
      "cell_type": "code",
      "source": [
        "\n",
        "from sklearn.metrics import r2_score\n",
        "r2_score(labels, predict_speed)"
      ],
      "metadata": {
        "colab": {
          "base_uri": "https://localhost:8080/"
        },
        "id": "0Fr91hWyQXqU",
        "outputId": "cb7865a2-9e92-4c39-aecd-df026fdd20ca"
      },
      "execution_count": 30,
      "outputs": [
        {
          "output_type": "execute_result",
          "data": {
            "text/plain": [
              "-9.164768342255912e+27"
            ]
          },
          "metadata": {},
          "execution_count": 30
        }
      ]
    },
    {
      "cell_type": "code",
      "source": [
        "plt.figure(figsize=[10,8])\n",
        "plt.plot(range(test_size), labels, label='actual speed')\n",
        "plt.plot(range(test_size), predict_speed, label='predicted speed')\n",
        "plt.legend()\n",
        "plt.show()"
      ],
      "metadata": {
        "colab": {
          "base_uri": "https://localhost:8080/",
          "height": 483
        },
        "id": "s4JRNtbfQbYw",
        "outputId": "d6b1dc39-af6f-4e27-cdcf-63a106bee49d"
      },
      "execution_count": 31,
      "outputs": [
        {
          "output_type": "display_data",
          "data": {
            "text/plain": [
              "<Figure size 720x576 with 1 Axes>"
            ],
            "image/png": "[encoded data removed]"
          },
          "metadata": {
            "needs_background": "light"
          }
        }
      ]
    },
    {
      "cell_type": "code",
      "source": [
        ""
      ],
      "metadata": {
        "id": "c58VceDjQiMy"
      },
      "execution_count": 31,
      "outputs": []
    }
  ]
}